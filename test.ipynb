{
 "cells": [
  {
   "cell_type": "code",
   "execution_count": 1,
   "metadata": {},
   "outputs": [],
   "source": [
    "from streamlit.connections import ExperimentalBaseConnection\n",
    "import os\n",
    "import requests\n",
    "import streamlit as st\n",
    "import json\n",
    "import plotly.graph_objects as go\n"
   ]
  },
  {
   "cell_type": "code",
   "execution_count": 2,
   "metadata": {},
   "outputs": [],
   "source": [
    "session = requests.Session()"
   ]
  },
  {
   "cell_type": "code",
   "execution_count": 3,
   "metadata": {},
   "outputs": [],
   "source": [
    "code=\"GR\""
   ]
  },
  {
   "cell_type": "code",
   "execution_count": 4,
   "metadata": {},
   "outputs": [],
   "source": [
    "response = session.get(f'https://api.openaq.org/v2/locations?limit=1000&page=1&offset=0&sort=desc&radius=1000&country_id={code}&order_by=lastUpdated&dumpRaw=false')"
   ]
  },
  {
   "cell_type": "code",
   "execution_count": 5,
   "metadata": {},
   "outputs": [],
   "source": [
    "test = response.json()"
   ]
  },
  {
   "cell_type": "code",
   "execution_count": 6,
   "metadata": {},
   "outputs": [],
   "source": [
    "# test[\"results\"]"
   ]
  },
  {
   "cell_type": "code",
   "execution_count": 7,
   "metadata": {},
   "outputs": [
    {
     "data": {
      "application/vnd.plotly.v1+json": {
       "config": {
        "plotlyServerURL": "https://plot.ly"
       },
       "data": [
        {
         "hoverinfo": "text",
         "lat": [
          40.626793,
          38.4642,
          38.053745,
          39.502827,
          40.46822,
          38.04067,
          38.297756,
          37.99345,
          40.554188,
          38.040443,
          35.33443,
          38.391853,
          38.037838,
          40.468044,
          40.473034,
          38.200115,
          38.613834,
          38.08363,
          38.26444,
          37.948063,
          38.00199,
          40.52414,
          40.48232,
          40.596607,
          40.5462,
          39.66403,
          41.021584,
          38.224144,
          38.034657,
          41.14249,
          37.98204,
          40.545174,
          38.289345,
          40.64645,
          37.512856,
          38.62109,
          38.62085,
          40.52205,
          41.504707,
          38.21937,
          40.633926,
          38.630947,
          37.944607,
          38.63086,
          38.166485,
          38.297787,
          40.54804,
          38.022263,
          37.978336,
          38.304512,
          38.073597,
          37.51022,
          38.3804,
          37.97673,
          40.507626,
          35.33276,
          40.546158,
          40.27856,
          41.5287,
          41.5287,
          40.48094,
          38.61595,
          38.45241,
          40.487007,
          37.9357,
          37.988132,
          38.132057,
          37.961323,
          38.090866,
          38.00266,
          41.12477,
          40.973434,
          37.97081,
          38.614536,
          37.054142,
          38.01368,
          41.14687,
          38.258595,
          37.966415,
          38.253143,
          38.622948,
          38.289433,
          38.208508,
          38.62539,
          35.20996,
          38.20659,
          38.013317,
          38.465412,
          38.24307,
          37.936108,
          38.213306,
          37.974033,
          38.24231,
          39.462246,
          38.637936,
          35.36645,
          38.242233,
          37.56929,
          38.041893,
          38.289684,
          38.037506,
          35.006638,
          37.989967,
          37.813873,
          38.468105,
          40.4683,
          38.00546,
          37.92956,
          37.97312,
          35.187954,
          38.06055,
          38.288548,
          38.28067,
          37.871895,
          38.319668,
          38.23952,
          37.95576,
          38.230366,
          39.16162,
          40.549896,
          40.48179,
          38.604656,
          38.23513,
          40.52373,
          38.032207,
          38.191635,
          37.97381,
          38.297016,
          40.549004,
          39.643875,
          38.24891,
          35.146812,
          40.851593,
          36.975235,
          38.247807,
          40.554214,
          38.01869,
          40.517162,
          37.933243,
          40.475136,
          38.237682,
          38.188732,
          37.968327,
          38.62478,
          38.26301,
          37.513233,
          37.512665,
          38.89667,
          38.04972,
          37.231873,
          38.241177,
          37.892815,
          37.978294,
          38.632324,
          38.056583,
          38.627785,
          37.98943,
          37.445465,
          38.58313,
          38.625546,
          38.27691,
          38.626984,
          38.265163,
          35.369553,
          40.47898,
          38.19944,
          40.435337,
          40.498276,
          38.96057,
          35.25534,
          38.65534
         ],
         "lon": [
          22.961178,
          23.599546,
          23.741959,
          18.265244,
          22.969133,
          23.684368,
          21.822891,
          23.744556,
          23.011063,
          23.833649,
          25.160295,
          21.822588,
          23.826132,
          22.964739,
          22.968912,
          21.743774,
          21.420347,
          23.700375,
          21.741283,
          23.72836,
          23.703772,
          23.051222,
          23.136211,
          22.952808,
          23.019308,
          20.851667,
          25.703577,
          21.735792,
          23.702152,
          24.88731,
          23.79478,
          23.023148,
          21.773867,
          22.919302,
          22.375622,
          21.40332,
          21.416252,
          23.221579,
          26.530298,
          21.756044,
          22.956741,
          21.422216,
          25.679096,
          21.408941,
          23.337214,
          21.809603,
          23.013294,
          23.737436,
          23.727934,
          21.794697,
          25.500216,
          22.377954,
          21.7986,
          23.7298,
          22.933462,
          25.138224,
          23.024025,
          21.752813,
          26.1265,
          26.1265,
          23.04805,
          21.37959,
          23.596085,
          23.020798,
          23.644547,
          23.72989,
          23.789848,
          23.761395,
          23.72522,
          23.763859,
          25.396202,
          25.420977,
          23.748861,
          21.408134,
          22.03415,
          25.666412,
          24.918509,
          21.750065,
          23.618925,
          21.738148,
          21.410679,
          21.785513,
          21.773191,
          21.40625,
          26.104395,
          21.727135,
          23.647491,
          23.603233,
          21.744677,
          22.924644,
          21.726892,
          23.718441,
          21.731447,
          21.63837,
          21.415152,
          24.48193,
          21.731613,
          22.830942,
          23.68476,
          21.786566,
          23.686476,
          25.737278,
          23.708792,
          23.782408,
          23.585297,
          22.994625,
          23.73234,
          23.69305,
          23.718056,
          25.715567,
          23.796446,
          21.785856,
          21.730143,
          23.755962,
          21.78404,
          21.734823,
          23.667692,
          21.745886,
          20.98528,
          23.165886,
          23.123684,
          21.486467,
          21.745434,
          22.99513,
          25.824484,
          21.760658,
          23.719069,
          21.79753,
          23.019571,
          20.857405,
          21.70269,
          27.327015,
          25.873419,
          22.147596,
          21.741768,
          23.041544,
          23.810574,
          22.948172,
          23.757456,
          22.959892,
          21.747717,
          21.72195,
          25.7822,
          21.40962,
          21.74841,
          22.376108,
          22.375841,
          22.433563,
          23.757725,
          21.991364,
          21.741581,
          23.75503,
          23.672758,
          21.398027,
          25.80332,
          21.398298,
          23.659912,
          24.941696,
          21.447792,
          21.422018,
          21.760338,
          21.411322,
          21.756952,
          24.469553,
          23.136276,
          21.699192,
          23.092491,
          22.98842,
          20.75465,
          25.607723,
          21.371721
         ],
         "marker": {
          "color": [
           29,
           13,
           12,
           21,
           16,
           10,
           15,
           16,
           15,
           23,
           15,
           30,
           14,
           16,
           12,
           15,
           13,
           13,
           22,
           21,
           30,
           15,
           14,
           33,
           21,
           11,
           25,
           19,
           18,
           23,
           17,
           16,
           15,
           100,
           6,
           11,
           11,
           16,
           22,
           14,
           18,
           11,
           40,
           11,
           14,
           14,
           19,
           14,
           17,
           19,
           9,
           8,
           27,
           22,
           18,
           20,
           15,
           11,
           29.07,
           63.38,
           14,
           12,
           19,
           17,
           30,
           18,
           16,
           17,
           14,
           15,
           37,
           32,
           20,
           11,
           6,
           19,
           12,
           18,
           19,
           21,
           12,
           21,
           8,
           11,
           42,
           17,
           23,
           12,
           18,
           26,
           13,
           22,
           24,
           7,
           12,
           26,
           24,
           9,
           16,
           28,
           12,
           10,
           18,
           47,
           12,
           13,
           13,
           34,
           32,
           10,
           13,
           14,
           11,
           30,
           29,
           17,
           27,
           16,
           21,
           18,
           19,
           14,
           14,
           12,
           6,
           12,
           16,
           16,
           16,
           15,
           19,
           13,
           37,
           29,
           13,
           21,
           18,
           20,
           17,
           16,
           13,
           24,
           23,
           39,
           33,
           31,
           28,
           70,
           17,
           23,
           16,
           21,
           15,
           21,
           33,
           18,
           33,
           46,
           26,
           30,
           46,
           26,
           38,
           34,
           24,
           65,
           80,
           44,
           34,
           54,
           18
          ],
          "colorbar": {
           "title": {
            "text": "Humidity (%)"
           }
          },
          "colorscale": [
           [
            0,
            "#440154"
           ],
           [
            0.1111111111111111,
            "#482878"
           ],
           [
            0.2222222222222222,
            "#3e4989"
           ],
           [
            0.3333333333333333,
            "#31688e"
           ],
           [
            0.4444444444444444,
            "#26828e"
           ],
           [
            0.5555555555555556,
            "#1f9e89"
           ],
           [
            0.6666666666666666,
            "#35b779"
           ],
           [
            0.7777777777777778,
            "#6ece58"
           ],
           [
            0.8888888888888888,
            "#b5de2b"
           ],
           [
            1,
            "#fde725"
           ]
          ],
          "size": 20
         },
         "mode": "markers+text",
         "text": [
          "<span style='font-size: 20px; color: blue;'>&#x1F4A7;</span> Humidity: 29.0%<br>humidity %",
          "<span style='font-size: 20px; color: blue;'>&#x1F4A7;</span> Humidity: 13.0%<br>humidity %",
          "<span style='font-size: 20px; color: blue;'>&#x1F4A7;</span> Humidity: 12.0%<br>humidity %",
          "<span style='font-size: 20px; color: blue;'>&#x1F4A7;</span> Humidity: 21.0%<br>humidity %",
          "<span style='font-size: 20px; color: blue;'>&#x1F4A7;</span> Humidity: 16.0%<br>humidity %",
          "<span style='font-size: 20px; color: blue;'>&#x1F4A7;</span> Humidity: 10.0%<br>humidity %",
          "<span style='font-size: 20px; color: blue;'>&#x1F4A7;</span> Humidity: 15.0%<br>humidity %",
          "<span style='font-size: 20px; color: blue;'>&#x1F4A7;</span> Humidity: 16.0%<br>humidity %",
          "<span style='font-size: 20px; color: blue;'>&#x1F4A7;</span> Humidity: 15.0%<br>humidity %",
          "<span style='font-size: 20px; color: blue;'>&#x1F4A7;</span> Humidity: 23.0%<br>humidity %",
          "<span style='font-size: 20px; color: blue;'>&#x1F4A7;</span> Humidity: 15.0%<br>humidity %",
          "<span style='font-size: 20px; color: blue;'>&#x1F4A7;</span> Humidity: 30.0%<br>humidity %",
          "<span style='font-size: 20px; color: blue;'>&#x1F4A7;</span> Humidity: 14.0%<br>humidity %",
          "<span style='font-size: 20px; color: blue;'>&#x1F4A7;</span> Humidity: 16.0%<br>humidity %",
          "<span style='font-size: 20px; color: blue;'>&#x1F4A7;</span> Humidity: 12.0%<br>humidity %",
          "<span style='font-size: 20px; color: blue;'>&#x1F4A7;</span> Humidity: 15.0%<br>humidity %",
          "<span style='font-size: 20px; color: blue;'>&#x1F4A7;</span> Humidity: 13.0%<br>humidity %",
          "<span style='font-size: 20px; color: blue;'>&#x1F4A7;</span> Humidity: 13.0%<br>humidity %",
          "<span style='font-size: 20px; color: blue;'>&#x1F4A7;</span> Humidity: 22.0%<br>humidity %",
          "<span style='font-size: 20px; color: blue;'>&#x1F4A7;</span> Humidity: 21.0%<br>humidity %",
          "<span style='font-size: 20px; color: blue;'>&#x1F4A7;</span> Humidity: 30.0%<br>humidity %",
          "<span style='font-size: 20px; color: blue;'>&#x1F4A7;</span> Humidity: 15.0%<br>humidity %",
          "<span style='font-size: 20px; color: blue;'>&#x1F4A7;</span> Humidity: 14.0%<br>humidity %",
          "<span style='font-size: 20px; color: blue;'>&#x1F4A7;</span> Humidity: 33.0%<br>humidity %",
          "<span style='font-size: 20px; color: blue;'>&#x1F4A7;</span> Humidity: 21.0%<br>humidity %",
          "<span style='font-size: 20px; color: blue;'>&#x1F4A7;</span> Humidity: 11.0%<br>humidity %",
          "<span style='font-size: 20px; color: blue;'>&#x1F4A7;</span> Humidity: 25.0%<br>humidity %",
          "<span style='font-size: 20px; color: blue;'>&#x1F4A7;</span> Humidity: 19.0%<br>humidity %",
          "<span style='font-size: 20px; color: blue;'>&#x1F4A7;</span> Humidity: 18.0%<br>humidity %",
          "<span style='font-size: 20px; color: blue;'>&#x1F4A7;</span> Humidity: 23.0%<br>humidity %",
          "<span style='font-size: 20px; color: blue;'>&#x1F4A7;</span> Humidity: 17.0%<br>humidity %",
          "<span style='font-size: 20px; color: blue;'>&#x1F4A7;</span> Humidity: 16.0%<br>humidity %",
          "<span style='font-size: 20px; color: blue;'>&#x1F4A7;</span> Humidity: 15.0%<br>humidity %",
          "<span style='font-size: 20px; color: blue;'>&#x1F4A7;</span> Humidity: 100.0%<br>humidity %",
          "<span style='font-size: 20px; color: blue;'>&#x1F4A7;</span> Humidity: 6.0%<br>humidity %",
          "<span style='font-size: 20px; color: blue;'>&#x1F4A7;</span> Humidity: 11.0%<br>humidity %",
          "<span style='font-size: 20px; color: blue;'>&#x1F4A7;</span> Humidity: 11.0%<br>humidity %",
          "<span style='font-size: 20px; color: blue;'>&#x1F4A7;</span> Humidity: 16.0%<br>humidity %",
          "<span style='font-size: 20px; color: blue;'>&#x1F4A7;</span> Humidity: 22.0%<br>humidity %",
          "<span style='font-size: 20px; color: blue;'>&#x1F4A7;</span> Humidity: 14.0%<br>humidity %",
          "<span style='font-size: 20px; color: blue;'>&#x1F4A7;</span> Humidity: 18.0%<br>humidity %",
          "<span style='font-size: 20px; color: blue;'>&#x1F4A7;</span> Humidity: 11.0%<br>humidity %",
          "<span style='font-size: 20px; color: blue;'>&#x1F4A7;</span> Humidity: 40.0%<br>humidity %",
          "<span style='font-size: 20px; color: blue;'>&#x1F4A7;</span> Humidity: 11.0%<br>humidity %",
          "<span style='font-size: 20px; color: blue;'>&#x1F4A7;</span> Humidity: 14.0%<br>humidity %",
          "<span style='font-size: 20px; color: blue;'>&#x1F4A7;</span> Humidity: 14.0%<br>humidity %",
          "<span style='font-size: 20px; color: blue;'>&#x1F4A7;</span> Humidity: 19.0%<br>humidity %",
          "<span style='font-size: 20px; color: blue;'>&#x1F4A7;</span> Humidity: 14.0%<br>humidity %",
          "<span style='font-size: 20px; color: blue;'>&#x1F4A7;</span> Humidity: 17.0%<br>humidity %",
          "<span style='font-size: 20px; color: blue;'>&#x1F4A7;</span> Humidity: 19.0%<br>humidity %",
          "<span style='font-size: 20px; color: blue;'>&#x1F4A7;</span> Humidity: 9.0%<br>humidity %",
          "<span style='font-size: 20px; color: blue;'>&#x1F4A7;</span> Humidity: 8.0%<br>humidity %",
          "<span style='font-size: 20px; color: blue;'>&#x1F4A7;</span> Humidity: 27.0%<br>humidity %",
          "<span style='font-size: 20px; color: blue;'>&#x1F4A7;</span> Humidity: 22.0%<br>humidity %",
          "<span style='font-size: 20px; color: blue;'>&#x1F4A7;</span> Humidity: 18.0%<br>humidity %",
          "<span style='font-size: 20px; color: blue;'>&#x1F4A7;</span> Humidity: 20.0%<br>humidity %",
          "<span style='font-size: 20px; color: blue;'>&#x1F4A7;</span> Humidity: 15.0%<br>humidity %",
          "<span style='font-size: 20px; color: blue;'>&#x1F4A7;</span> Humidity: 11.0%<br>humidity %",
          "<span style='font-size: 20px; color: blue;'>&#x1F4A7;</span> Humidity: 29.07%<br>humidity %",
          "<span style='font-size: 20px; color: blue;'>&#x1F4A7;</span> Humidity: 63.38%<br>humidity %",
          "<span style='font-size: 20px; color: blue;'>&#x1F4A7;</span> Humidity: 14.0%<br>humidity %",
          "<span style='font-size: 20px; color: blue;'>&#x1F4A7;</span> Humidity: 12.0%<br>humidity %",
          "<span style='font-size: 20px; color: blue;'>&#x1F4A7;</span> Humidity: 19.0%<br>humidity %",
          "<span style='font-size: 20px; color: blue;'>&#x1F4A7;</span> Humidity: 17.0%<br>humidity %",
          "<span style='font-size: 20px; color: blue;'>&#x1F4A7;</span> Humidity: 30.0%<br>humidity %",
          "<span style='font-size: 20px; color: blue;'>&#x1F4A7;</span> Humidity: 18.0%<br>humidity %",
          "<span style='font-size: 20px; color: blue;'>&#x1F4A7;</span> Humidity: 16.0%<br>humidity %",
          "<span style='font-size: 20px; color: blue;'>&#x1F4A7;</span> Humidity: 17.0%<br>humidity %",
          "<span style='font-size: 20px; color: blue;'>&#x1F4A7;</span> Humidity: 14.0%<br>humidity %",
          "<span style='font-size: 20px; color: blue;'>&#x1F4A7;</span> Humidity: 15.0%<br>humidity %",
          "<span style='font-size: 20px; color: blue;'>&#x1F4A7;</span> Humidity: 37.0%<br>humidity %",
          "<span style='font-size: 20px; color: blue;'>&#x1F4A7;</span> Humidity: 32.0%<br>humidity %",
          "<span style='font-size: 20px; color: blue;'>&#x1F4A7;</span> Humidity: 20.0%<br>humidity %",
          "<span style='font-size: 20px; color: blue;'>&#x1F4A7;</span> Humidity: 11.0%<br>humidity %",
          "<span style='font-size: 20px; color: blue;'>&#x1F4A7;</span> Humidity: 6.0%<br>humidity %",
          "<span style='font-size: 20px; color: blue;'>&#x1F4A7;</span> Humidity: 19.0%<br>humidity %",
          "<span style='font-size: 20px; color: blue;'>&#x1F4A7;</span> Humidity: 12.0%<br>humidity %",
          "<span style='font-size: 20px; color: blue;'>&#x1F4A7;</span> Humidity: 18.0%<br>humidity %",
          "<span style='font-size: 20px; color: blue;'>&#x1F4A7;</span> Humidity: 19.0%<br>humidity %",
          "<span style='font-size: 20px; color: blue;'>&#x1F4A7;</span> Humidity: 21.0%<br>humidity %",
          "<span style='font-size: 20px; color: blue;'>&#x1F4A7;</span> Humidity: 12.0%<br>humidity %",
          "<span style='font-size: 20px; color: blue;'>&#x1F4A7;</span> Humidity: 21.0%<br>humidity %",
          "<span style='font-size: 20px; color: blue;'>&#x1F4A7;</span> Humidity: 8.0%<br>humidity %",
          "<span style='font-size: 20px; color: blue;'>&#x1F4A7;</span> Humidity: 11.0%<br>humidity %",
          "<span style='font-size: 20px; color: blue;'>&#x1F4A7;</span> Humidity: 42.0%<br>humidity %",
          "<span style='font-size: 20px; color: blue;'>&#x1F4A7;</span> Humidity: 17.0%<br>humidity %",
          "<span style='font-size: 20px; color: blue;'>&#x1F4A7;</span> Humidity: 23.0%<br>humidity %",
          "<span style='font-size: 20px; color: blue;'>&#x1F4A7;</span> Humidity: 12.0%<br>humidity %",
          "<span style='font-size: 20px; color: blue;'>&#x1F4A7;</span> Humidity: 18.0%<br>humidity %",
          "<span style='font-size: 20px; color: blue;'>&#x1F4A7;</span> Humidity: 26.0%<br>humidity %",
          "<span style='font-size: 20px; color: blue;'>&#x1F4A7;</span> Humidity: 13.0%<br>humidity %",
          "<span style='font-size: 20px; color: blue;'>&#x1F4A7;</span> Humidity: 22.0%<br>humidity %",
          "<span style='font-size: 20px; color: blue;'>&#x1F4A7;</span> Humidity: 24.0%<br>humidity %",
          "<span style='font-size: 20px; color: blue;'>&#x1F4A7;</span> Humidity: 7.0%<br>humidity %",
          "<span style='font-size: 20px; color: blue;'>&#x1F4A7;</span> Humidity: 12.0%<br>humidity %",
          "<span style='font-size: 20px; color: blue;'>&#x1F4A7;</span> Humidity: 26.0%<br>humidity %",
          "<span style='font-size: 20px; color: blue;'>&#x1F4A7;</span> Humidity: 24.0%<br>humidity %",
          "<span style='font-size: 20px; color: blue;'>&#x1F4A7;</span> Humidity: 9.0%<br>humidity %",
          "<span style='font-size: 20px; color: blue;'>&#x1F4A7;</span> Humidity: 16.0%<br>humidity %",
          "<span style='font-size: 20px; color: blue;'>&#x1F4A7;</span> Humidity: 28.0%<br>humidity %",
          "<span style='font-size: 20px; color: blue;'>&#x1F4A7;</span> Humidity: 12.0%<br>humidity %",
          "<span style='font-size: 20px; color: blue;'>&#x1F4A7;</span> Humidity: 10.0%<br>humidity %",
          "<span style='font-size: 20px; color: blue;'>&#x1F4A7;</span> Humidity: 18.0%<br>humidity %",
          "<span style='font-size: 20px; color: blue;'>&#x1F4A7;</span> Humidity: 47.0%<br>humidity %",
          "<span style='font-size: 20px; color: blue;'>&#x1F4A7;</span> Humidity: 12.0%<br>humidity %",
          "<span style='font-size: 20px; color: blue;'>&#x1F4A7;</span> Humidity: 13.0%<br>humidity %",
          "<span style='font-size: 20px; color: blue;'>&#x1F4A7;</span> Humidity: 13.0%<br>humidity %",
          "<span style='font-size: 20px; color: blue;'>&#x1F4A7;</span> Humidity: 34.0%<br>humidity %",
          "<span style='font-size: 20px; color: blue;'>&#x1F4A7;</span> Humidity: 32.0%<br>humidity %",
          "<span style='font-size: 20px; color: blue;'>&#x1F4A7;</span> Humidity: 10.0%<br>humidity %",
          "<span style='font-size: 20px; color: blue;'>&#x1F4A7;</span> Humidity: 13.0%<br>humidity %",
          "<span style='font-size: 20px; color: blue;'>&#x1F4A7;</span> Humidity: 14.0%<br>humidity %",
          "<span style='font-size: 20px; color: blue;'>&#x1F4A7;</span> Humidity: 11.0%<br>humidity %",
          "<span style='font-size: 20px; color: blue;'>&#x1F4A7;</span> Humidity: 30.0%<br>humidity %",
          "<span style='font-size: 20px; color: blue;'>&#x1F4A7;</span> Humidity: 29.0%<br>humidity %",
          "<span style='font-size: 20px; color: blue;'>&#x1F4A7;</span> Humidity: 17.0%<br>humidity %",
          "<span style='font-size: 20px; color: blue;'>&#x1F4A7;</span> Humidity: 27.0%<br>humidity %",
          "<span style='font-size: 20px; color: blue;'>&#x1F4A7;</span> Humidity: 16.0%<br>humidity %",
          "<span style='font-size: 20px; color: blue;'>&#x1F4A7;</span> Humidity: 21.0%<br>humidity %",
          "<span style='font-size: 20px; color: blue;'>&#x1F4A7;</span> Humidity: 18.0%<br>humidity %",
          "<span style='font-size: 20px; color: blue;'>&#x1F4A7;</span> Humidity: 19.0%<br>humidity %",
          "<span style='font-size: 20px; color: blue;'>&#x1F4A7;</span> Humidity: 14.0%<br>humidity %",
          "<span style='font-size: 20px; color: blue;'>&#x1F4A7;</span> Humidity: 14.0%<br>humidity %",
          "<span style='font-size: 20px; color: blue;'>&#x1F4A7;</span> Humidity: 12.0%<br>humidity %",
          "<span style='font-size: 20px; color: blue;'>&#x1F4A7;</span> Humidity: 6.0%<br>humidity %",
          "<span style='font-size: 20px; color: blue;'>&#x1F4A7;</span> Humidity: 12.0%<br>humidity %",
          "<span style='font-size: 20px; color: blue;'>&#x1F4A7;</span> Humidity: 16.0%<br>humidity %",
          "<span style='font-size: 20px; color: blue;'>&#x1F4A7;</span> Humidity: 16.0%<br>humidity %",
          "<span style='font-size: 20px; color: blue;'>&#x1F4A7;</span> Humidity: 16.0%<br>humidity %",
          "<span style='font-size: 20px; color: blue;'>&#x1F4A7;</span> Humidity: 15.0%<br>humidity %",
          "<span style='font-size: 20px; color: blue;'>&#x1F4A7;</span> Humidity: 19.0%<br>humidity %",
          "<span style='font-size: 20px; color: blue;'>&#x1F4A7;</span> Humidity: 13.0%<br>humidity %",
          "<span style='font-size: 20px; color: blue;'>&#x1F4A7;</span> Humidity: 37.0%<br>humidity %",
          "<span style='font-size: 20px; color: blue;'>&#x1F4A7;</span> Humidity: 29.0%<br>humidity %",
          "<span style='font-size: 20px; color: blue;'>&#x1F4A7;</span> Humidity: 13.0%<br>humidity %",
          "<span style='font-size: 20px; color: blue;'>&#x1F4A7;</span> Humidity: 21.0%<br>humidity %",
          "<span style='font-size: 20px; color: blue;'>&#x1F4A7;</span> Humidity: 18.0%<br>humidity %",
          "<span style='font-size: 20px; color: blue;'>&#x1F4A7;</span> Humidity: 20.0%<br>humidity %",
          "<span style='font-size: 20px; color: blue;'>&#x1F4A7;</span> Humidity: 17.0%<br>humidity %",
          "<span style='font-size: 20px; color: blue;'>&#x1F4A7;</span> Humidity: 16.0%<br>humidity %",
          "<span style='font-size: 20px; color: blue;'>&#x1F4A7;</span> Humidity: 13.0%<br>humidity %",
          "<span style='font-size: 20px; color: blue;'>&#x1F4A7;</span> Humidity: 24.0%<br>humidity %",
          "<span style='font-size: 20px; color: blue;'>&#x1F4A7;</span> Humidity: 23.0%<br>humidity %",
          "<span style='font-size: 20px; color: blue;'>&#x1F4A7;</span> Humidity: 39.0%<br>humidity %",
          "<span style='font-size: 20px; color: blue;'>&#x1F4A7;</span> Humidity: 33.0%<br>humidity %",
          "<span style='font-size: 20px; color: blue;'>&#x1F4A7;</span> Humidity: 31.0%<br>humidity %",
          "<span style='font-size: 20px; color: blue;'>&#x1F4A7;</span> Humidity: 28.0%<br>humidity %",
          "<span style='font-size: 20px; color: blue;'>&#x1F4A7;</span> Humidity: 70.0%<br>humidity %",
          "<span style='font-size: 20px; color: blue;'>&#x1F4A7;</span> Humidity: 17.0%<br>humidity %",
          "<span style='font-size: 20px; color: blue;'>&#x1F4A7;</span> Humidity: 23.0%<br>humidity %",
          "<span style='font-size: 20px; color: blue;'>&#x1F4A7;</span> Humidity: 16.0%<br>humidity %",
          "<span style='font-size: 20px; color: blue;'>&#x1F4A7;</span> Humidity: 21.0%<br>humidity %",
          "<span style='font-size: 20px; color: blue;'>&#x1F4A7;</span> Humidity: 15.0%<br>humidity %",
          "<span style='font-size: 20px; color: blue;'>&#x1F4A7;</span> Humidity: 21.0%<br>humidity %",
          "<span style='font-size: 20px; color: blue;'>&#x1F4A7;</span> Humidity: 33.0%<br>humidity %",
          "<span style='font-size: 20px; color: blue;'>&#x1F4A7;</span> Humidity: 18.0%<br>humidity %",
          "<span style='font-size: 20px; color: blue;'>&#x1F4A7;</span> Humidity: 33.0%<br>humidity %",
          "<span style='font-size: 20px; color: blue;'>&#x1F4A7;</span> Humidity: 46.0%<br>humidity %",
          "<span style='font-size: 20px; color: blue;'>&#x1F4A7;</span> Humidity: 26.0%<br>humidity %",
          "<span style='font-size: 20px; color: blue;'>&#x1F4A7;</span> Humidity: 30.0%<br>humidity %",
          "<span style='font-size: 20px; color: blue;'>&#x1F4A7;</span> Humidity: 46.0%<br>humidity %",
          "<span style='font-size: 20px; color: blue;'>&#x1F4A7;</span> Humidity: 26.0%<br>humidity %",
          "<span style='font-size: 20px; color: blue;'>&#x1F4A7;</span> Humidity: 38.0%<br>humidity %",
          "<span style='font-size: 20px; color: blue;'>&#x1F4A7;</span> Humidity: 34.0%<br>humidity %",
          "<span style='font-size: 20px; color: blue;'>&#x1F4A7;</span> Humidity: 24.0%<br>humidity %",
          "<span style='font-size: 20px; color: blue;'>&#x1F4A7;</span> Humidity: 65.0%<br>humidity %",
          "<span style='font-size: 20px; color: blue;'>&#x1F4A7;</span> Humidity: 80.0%<br>humidity %",
          "<span style='font-size: 20px; color: blue;'>&#x1F4A7;</span> Humidity: 44.0%<br>humidity %",
          "<span style='font-size: 20px; color: blue;'>&#x1F4A7;</span> Humidity: 34.0%<br>humidity %",
          "<span style='font-size: 20px; color: blue;'>&#x1F4A7;</span> Humidity: 54.0%<br>humidity %",
          "<span style='font-size: 20px; color: blue;'>&#x1F4A7;</span> Humidity: 18.0%<br>humidity %"
         ],
         "type": "scattermapbox"
        }
       ],
       "layout": {
        "mapbox": {
         "center": {
          "lat": 38.61804797076023,
          "lon": 23.005121076023404
         },
         "style": "open-street-map",
         "zoom": 5
        },
        "margin": {
         "b": 0,
         "l": 0,
         "r": 0,
         "t": 0
        },
        "template": {
         "data": {
          "candlestick": [
           {
            "decreasing": {
             "line": {
              "color": "#000033"
             }
            },
            "increasing": {
             "line": {
              "color": "#000032"
             }
            },
            "type": "candlestick"
           }
          ],
          "contour": [
           {
            "colorscale": [
             [
              0,
              "#000011"
             ],
             [
              0.1111111111111111,
              "#000012"
             ],
             [
              0.2222222222222222,
              "#000013"
             ],
             [
              0.3333333333333333,
              "#000014"
             ],
             [
              0.4444444444444444,
              "#000015"
             ],
             [
              0.5555555555555556,
              "#000016"
             ],
             [
              0.6666666666666666,
              "#000017"
             ],
             [
              0.7777777777777778,
              "#000018"
             ],
             [
              0.8888888888888888,
              "#000019"
             ],
             [
              1,
              "#000020"
             ]
            ],
            "type": "contour"
           }
          ],
          "contourcarpet": [
           {
            "colorscale": [
             [
              0,
              "#000011"
             ],
             [
              0.1111111111111111,
              "#000012"
             ],
             [
              0.2222222222222222,
              "#000013"
             ],
             [
              0.3333333333333333,
              "#000014"
             ],
             [
              0.4444444444444444,
              "#000015"
             ],
             [
              0.5555555555555556,
              "#000016"
             ],
             [
              0.6666666666666666,
              "#000017"
             ],
             [
              0.7777777777777778,
              "#000018"
             ],
             [
              0.8888888888888888,
              "#000019"
             ],
             [
              1,
              "#000020"
             ]
            ],
            "type": "contourcarpet"
           }
          ],
          "heatmap": [
           {
            "colorscale": [
             [
              0,
              "#000011"
             ],
             [
              0.1111111111111111,
              "#000012"
             ],
             [
              0.2222222222222222,
              "#000013"
             ],
             [
              0.3333333333333333,
              "#000014"
             ],
             [
              0.4444444444444444,
              "#000015"
             ],
             [
              0.5555555555555556,
              "#000016"
             ],
             [
              0.6666666666666666,
              "#000017"
             ],
             [
              0.7777777777777778,
              "#000018"
             ],
             [
              0.8888888888888888,
              "#000019"
             ],
             [
              1,
              "#000020"
             ]
            ],
            "type": "heatmap"
           }
          ],
          "histogram2d": [
           {
            "colorscale": [
             [
              0,
              "#000011"
             ],
             [
              0.1111111111111111,
              "#000012"
             ],
             [
              0.2222222222222222,
              "#000013"
             ],
             [
              0.3333333333333333,
              "#000014"
             ],
             [
              0.4444444444444444,
              "#000015"
             ],
             [
              0.5555555555555556,
              "#000016"
             ],
             [
              0.6666666666666666,
              "#000017"
             ],
             [
              0.7777777777777778,
              "#000018"
             ],
             [
              0.8888888888888888,
              "#000019"
             ],
             [
              1,
              "#000020"
             ]
            ],
            "type": "histogram2d"
           }
          ],
          "icicle": [
           {
            "textfont": {
             "color": "white"
            },
            "type": "icicle"
           }
          ],
          "sankey": [
           {
            "textfont": {
             "color": "#000036"
            },
            "type": "sankey"
           }
          ],
          "scatter": [
           {
            "marker": {
             "line": {
              "width": 0
             }
            },
            "type": "scatter"
           }
          ],
          "table": [
           {
            "cells": {
             "fill": {
              "color": "#000038"
             },
             "font": {
              "color": "#000037"
             },
             "line": {
              "color": "#000039"
             }
            },
            "header": {
             "fill": {
              "color": "#000040"
             },
             "font": {
              "color": "#000036"
             },
             "line": {
              "color": "#000039"
             }
            },
            "type": "table"
           }
          ],
          "waterfall": [
           {
            "connector": {
             "line": {
              "color": "#000036",
              "width": 2
             }
            },
            "decreasing": {
             "marker": {
              "color": "#000033"
             }
            },
            "increasing": {
             "marker": {
              "color": "#000032"
             }
            },
            "totals": {
             "marker": {
              "color": "#000034"
             }
            },
            "type": "waterfall"
           }
          ]
         },
         "layout": {
          "coloraxis": {
           "colorscale": [
            [
             0,
             "#000011"
            ],
            [
             0.1111111111111111,
             "#000012"
            ],
            [
             0.2222222222222222,
             "#000013"
            ],
            [
             0.3333333333333333,
             "#000014"
            ],
            [
             0.4444444444444444,
             "#000015"
            ],
            [
             0.5555555555555556,
             "#000016"
            ],
            [
             0.6666666666666666,
             "#000017"
            ],
            [
             0.7777777777777778,
             "#000018"
            ],
            [
             0.8888888888888888,
             "#000019"
            ],
            [
             1,
             "#000020"
            ]
           ]
          },
          "colorscale": {
           "diverging": [
            [
             0,
             "#000021"
            ],
            [
             0.1,
             "#000022"
            ],
            [
             0.2,
             "#000023"
            ],
            [
             0.3,
             "#000024"
            ],
            [
             0.4,
             "#000025"
            ],
            [
             0.5,
             "#000026"
            ],
            [
             0.6,
             "#000027"
            ],
            [
             0.7,
             "#000028"
            ],
            [
             0.8,
             "#000029"
            ],
            [
             0.9,
             "#000030"
            ],
            [
             1,
             "#000031"
            ]
           ],
           "sequential": [
            [
             0,
             "#000011"
            ],
            [
             0.1111111111111111,
             "#000012"
            ],
            [
             0.2222222222222222,
             "#000013"
            ],
            [
             0.3333333333333333,
             "#000014"
            ],
            [
             0.4444444444444444,
             "#000015"
            ],
            [
             0.5555555555555556,
             "#000016"
            ],
            [
             0.6666666666666666,
             "#000017"
            ],
            [
             0.7777777777777778,
             "#000018"
            ],
            [
             0.8888888888888888,
             "#000019"
            ],
            [
             1,
             "#000020"
            ]
           ],
           "sequentialminus": [
            [
             0,
             "#000011"
            ],
            [
             0.1111111111111111,
             "#000012"
            ],
            [
             0.2222222222222222,
             "#000013"
            ],
            [
             0.3333333333333333,
             "#000014"
            ],
            [
             0.4444444444444444,
             "#000015"
            ],
            [
             0.5555555555555556,
             "#000016"
            ],
            [
             0.6666666666666666,
             "#000017"
            ],
            [
             0.7777777777777778,
             "#000018"
            ],
            [
             0.8888888888888888,
             "#000019"
            ],
            [
             1,
             "#000020"
            ]
           ]
          },
          "colorway": [
           "#000001",
           "#000002",
           "#000003",
           "#000004",
           "#000005",
           "#000006",
           "#000007",
           "#000008",
           "#000009",
           "#000010"
          ]
         }
        }
       }
      }
     },
     "metadata": {},
     "output_type": "display_data"
    }
   ],
   "source": [
    "def visualize_humidity_on_map(data_dict):\n",
    "    # Initialize lists to store data for multiple locations\n",
    "    latitudes = []\n",
    "    longitudes = []\n",
    "    humidity_values = []\n",
    "    display_names = []\n",
    "\n",
    "    # Loop through the results and extract relevant data for each location\n",
    "    for result in data_dict.get('results', []):\n",
    "        measurements = result.get('parameters', [])\n",
    "        for measurement in measurements:\n",
    "            if measurement['parameter'] == 'humidity':\n",
    "                humidity_value = measurement['lastValue']\n",
    "                display_name = measurement['displayName']\n",
    "                latitude = result['coordinates']['latitude']\n",
    "                longitude = result['coordinates']['longitude']\n",
    "\n",
    "                latitudes.append(latitude)\n",
    "                longitudes.append(longitude)\n",
    "                humidity_values.append(humidity_value)\n",
    "                display_names.append(display_name)\n",
    "\n",
    "    if not latitudes or not longitudes or not humidity_values:\n",
    "        print(\"Humidity data not found.\")\n",
    "        return\n",
    "\n",
    "    # Create the visualization\n",
    "    fig = go.Figure()\n",
    "\n",
    "    # Add custom HTML markers as map markers\n",
    "    custom_markers = [\n",
    "        f\"\"\"<span style='font-size: 20px; color: blue;'>&#x1F4A7;</span> Humidity: {humidity}%<br>{display_name}\"\"\"\n",
    "        for humidity, display_name in zip(humidity_values, display_names)\n",
    "    ]\n",
    "\n",
    "    # Add a single scatter mapbox trace with all locations\n",
    "    fig.add_trace(go.Scattermapbox(\n",
    "        lat=latitudes,\n",
    "        lon=longitudes,\n",
    "        mode='markers+text',\n",
    "        marker=go.scattermapbox.Marker(\n",
    "            size=20,\n",
    "            color=humidity_values,\n",
    "            colorscale='Viridis',  # You can choose other color scales as well\n",
    "            colorbar=dict(title='Humidity (%)')\n",
    "        ),\n",
    "        text=custom_markers,\n",
    "        hoverinfo='text'\n",
    "    ))\n",
    "    \n",
    "    # # Add a scatter mapbox trace for each location\n",
    "    # for lat, lon, humidity_value in zip(latitudes, longitudes, humidity_values):\n",
    "    #     fig.add_trace(go.Scattermapbox(\n",
    "    #         lat=[lat],\n",
    "    #         lon=[lon],\n",
    "    #         mode='markers',\n",
    "    #         marker=go.scattermapbox.Marker(\n",
    "    #             size=20,\n",
    "    #             color=humidity_value,\n",
    "    #             colorscale='Viridis',  # You can choose other color scales as well\n",
    "    #             colorbar=dict(title='Humidity (%)')\n",
    "    #         ),\n",
    "    #         text=[f'Humidity: {humidity_value}%'],\n",
    "    #         hoverinfo='text'\n",
    "    #     ))\n",
    "\n",
    "    # Update map layout\n",
    "    fig.update_layout(\n",
    "        mapbox=dict(\n",
    "            style='open-street-map',  # Choose the desired map style\n",
    "            zoom=5,  # Adjust the initial zoom level as needed\n",
    "            center=dict(lat=sum(latitudes) / len(latitudes), lon=sum(longitudes) / len(longitudes))\n",
    "        ),\n",
    "        margin=dict(l=0, r=0, t=0, b=0)\n",
    "    )\n",
    "\n",
    "    # Show the map\n",
    "    fig.show()\n",
    "\n",
    "visualize_humidity_on_map(test)\n"
   ]
  },
  {
   "cell_type": "code",
   "execution_count": 9,
   "metadata": {},
   "outputs": [],
   "source": [
    "countries = response.json()[\"results\"]"
   ]
  },
  {
   "cell_type": "code",
   "execution_count": 11,
   "metadata": {},
   "outputs": [],
   "source": [
    "data_dict = {item[\"name\"]: item for item in countries}\n"
   ]
  },
  {
   "cell_type": "code",
   "execution_count": 13,
   "metadata": {},
   "outputs": [
    {
     "data": {
      "text/plain": [
       "{'id': 128,\n",
       " 'code': 'GR',\n",
       " 'name': 'Greece',\n",
       " 'datetimeFirst': '2019-05-31T20:50:02+00:00',\n",
       " 'datetimeLast': '2023-07-23T13:49:17+00:00',\n",
       " 'parameters': [{'id': 1,\n",
       "   'name': 'pm10',\n",
       "   'units': 'µg/m³',\n",
       "   'displayName': None},\n",
       "  {'id': 2, 'name': 'pm25', 'units': 'µg/m³', 'displayName': None},\n",
       "  {'id': 3, 'name': 'o3', 'units': 'µg/m³', 'displayName': None},\n",
       "  {'id': 4, 'name': 'co', 'units': 'µg/m³', 'displayName': None},\n",
       "  {'id': 5, 'name': 'no2', 'units': 'µg/m³', 'displayName': None},\n",
       "  {'id': 6, 'name': 'so2', 'units': 'µg/m³', 'displayName': None},\n",
       "  {'id': 19, 'name': 'pm1', 'units': 'µg/m³', 'displayName': None},\n",
       "  {'id': 95, 'name': 'pressure', 'units': 'hpa', 'displayName': None},\n",
       "  {'id': 100, 'name': 'temperature', 'units': 'c', 'displayName': None},\n",
       "  {'id': 125, 'name': 'um003', 'units': 'particles/cm³', 'displayName': None},\n",
       "  {'id': 126, 'name': 'um010', 'units': 'particles/cm³', 'displayName': None},\n",
       "  {'id': 128, 'name': 'temperature', 'units': 'f', 'displayName': None},\n",
       "  {'id': 129, 'name': 'um050', 'units': 'particles/cm³', 'displayName': None},\n",
       "  {'id': 130, 'name': 'um025', 'units': 'particles/cm³', 'displayName': None},\n",
       "  {'id': 132, 'name': 'pressure', 'units': 'mb', 'displayName': None},\n",
       "  {'id': 133, 'name': 'um005', 'units': 'particles/cm³', 'displayName': None},\n",
       "  {'id': 134, 'name': 'humidity', 'units': '%', 'displayName': None},\n",
       "  {'id': 135, 'name': 'um100', 'units': 'particles/cm³', 'displayName': None},\n",
       "  {'id': 150, 'name': 'voc', 'units': 'iaq', 'displayName': None},\n",
       "  {'id': 19843, 'name': 'no', 'units': 'µg/m³', 'displayName': None},\n",
       "  {'id': 19844, 'name': 'pm4', 'units': 'µg/m³', 'displayName': None}],\n",
       " 'locationsCount': 275,\n",
       " 'measurementsCount': 304410387,\n",
       " 'providersCount': 3}"
      ]
     },
     "execution_count": 13,
     "metadata": {},
     "output_type": "execute_result"
    }
   ],
   "source": [
    "data_dict[\"Greece\"]"
   ]
  },
  {
   "cell_type": "code",
   "execution_count": 10,
   "metadata": {},
   "outputs": [
    {
     "data": {
      "text/plain": [
       "[{'id': 128,\n",
       "  'code': 'GR',\n",
       "  'name': 'Greece',\n",
       "  'datetimeFirst': '2019-05-31T20:50:02+00:00',\n",
       "  'datetimeLast': '2023-07-23T13:49:17+00:00',\n",
       "  'parameters': [{'id': 1,\n",
       "    'name': 'pm10',\n",
       "    'units': 'µg/m³',\n",
       "    'displayName': None},\n",
       "   {'id': 2, 'name': 'pm25', 'units': 'µg/m³', 'displayName': None},\n",
       "   {'id': 3, 'name': 'o3', 'units': 'µg/m³', 'displayName': None},\n",
       "   {'id': 4, 'name': 'co', 'units': 'µg/m³', 'displayName': None},\n",
       "   {'id': 5, 'name': 'no2', 'units': 'µg/m³', 'displayName': None},\n",
       "   {'id': 6, 'name': 'so2', 'units': 'µg/m³', 'displayName': None},\n",
       "   {'id': 19, 'name': 'pm1', 'units': 'µg/m³', 'displayName': None},\n",
       "   {'id': 95, 'name': 'pressure', 'units': 'hpa', 'displayName': None},\n",
       "   {'id': 100, 'name': 'temperature', 'units': 'c', 'displayName': None},\n",
       "   {'id': 125, 'name': 'um003', 'units': 'particles/cm³', 'displayName': None},\n",
       "   {'id': 126, 'name': 'um010', 'units': 'particles/cm³', 'displayName': None},\n",
       "   {'id': 128, 'name': 'temperature', 'units': 'f', 'displayName': None},\n",
       "   {'id': 129, 'name': 'um050', 'units': 'particles/cm³', 'displayName': None},\n",
       "   {'id': 130, 'name': 'um025', 'units': 'particles/cm³', 'displayName': None},\n",
       "   {'id': 132, 'name': 'pressure', 'units': 'mb', 'displayName': None},\n",
       "   {'id': 133, 'name': 'um005', 'units': 'particles/cm³', 'displayName': None},\n",
       "   {'id': 134, 'name': 'humidity', 'units': '%', 'displayName': None},\n",
       "   {'id': 135, 'name': 'um100', 'units': 'particles/cm³', 'displayName': None},\n",
       "   {'id': 150, 'name': 'voc', 'units': 'iaq', 'displayName': None},\n",
       "   {'id': 19843, 'name': 'no', 'units': 'µg/m³', 'displayName': None},\n",
       "   {'id': 19844, 'name': 'pm4', 'units': 'µg/m³', 'displayName': None}],\n",
       "  'locationsCount': 275,\n",
       "  'measurementsCount': 304410387,\n",
       "  'providersCount': 3}]"
      ]
     },
     "execution_count": 10,
     "metadata": {},
     "output_type": "execute_result"
    }
   ],
   "source": [
    "def filter_by_name(data, target_name):\n",
    "    filtered_data = [item for item in data if item[\"name\"] == target_name]\n",
    "    return filtered_data\n",
    "\n",
    "target_name = \"Greece\"\n",
    "filtered_countries = filter_by_name(countries, target_name)\n",
    "filtered_countries"
   ]
  },
  {
   "cell_type": "code",
   "execution_count": null,
   "metadata": {},
   "outputs": [],
   "source": []
  }
 ],
 "metadata": {
  "kernelspec": {
   "display_name": ".venv",
   "language": "python",
   "name": "python3"
  },
  "language_info": {
   "codemirror_mode": {
    "name": "ipython",
    "version": 3
   },
   "file_extension": ".py",
   "mimetype": "text/x-python",
   "name": "python",
   "nbconvert_exporter": "python",
   "pygments_lexer": "ipython3",
   "version": "3.8.6"
  },
  "orig_nbformat": 4
 },
 "nbformat": 4,
 "nbformat_minor": 2
}
