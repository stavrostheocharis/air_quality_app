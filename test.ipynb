{
 "cells": [
  {
   "cell_type": "code",
   "execution_count": 8,
   "metadata": {},
   "outputs": [],
   "source": [
    "from streamlit.connections import ExperimentalBaseConnection\n",
    "import os\n",
    "import requests\n",
    "import streamlit as st\n",
    "import json\n",
    "import plotly.graph_objects as go\n",
    "from datetime import datetime\n",
    "\n"
   ]
  },
  {
   "cell_type": "code",
   "execution_count": 9,
   "metadata": {},
   "outputs": [],
   "source": [
    "session = requests.Session()"
   ]
  },
  {
   "cell_type": "code",
   "execution_count": 10,
   "metadata": {},
   "outputs": [],
   "source": [
    "countries_1 = session.get(f'https://api.openaq.org/v2/countries?limit=100&page=1&sort=asc&order_by=name')\n",
    "countries_2 = session.get(f'https://api.openaq.org/v2/countries?limit=100&page=2&sort=asc&order_by=name')"
   ]
  },
  {
   "cell_type": "code",
   "execution_count": 11,
   "metadata": {},
   "outputs": [],
   "source": [
    "countries = countries_1.json()[\"results\"] + countries_2.json()[\"results\"]"
   ]
  },
  {
   "cell_type": "code",
   "execution_count": 12,
   "metadata": {},
   "outputs": [
    {
     "data": {
      "text/plain": [
       "{'Afghanistan': 'AF',\n",
       " 'Algeria': 'DZ',\n",
       " 'Angola': 'AO',\n",
       " 'Antarctica': 'AQ',\n",
       " 'Argentina': 'AR',\n",
       " 'Armenia': 'AM',\n",
       " 'Australia': 'AU',\n",
       " 'Austria': 'AT',\n",
       " 'Azerbaijan': 'AZ',\n",
       " 'Bangladesh': 'BD',\n",
       " 'Belgium': 'BE',\n",
       " 'Belize': 'BZ',\n",
       " 'Benin': 'BJ',\n",
       " 'Bolivia': 'BO',\n",
       " 'Bosnia and Herz.': 'BA',\n",
       " 'Brazil': 'BR',\n",
       " 'Bulgaria': 'BG',\n",
       " 'Burkina Faso': 'BF',\n",
       " 'Burundi': 'BI',\n",
       " 'Cameroon': 'CM',\n",
       " 'Canada': 'CA',\n",
       " 'Central African Rep.': 'CF',\n",
       " 'Chad': 'TD',\n",
       " 'Chile': 'CL',\n",
       " 'China': 'CN',\n",
       " 'Colombia': 'CO',\n",
       " 'Costa Rica': 'CR',\n",
       " \"Côte d'Ivoire\": 'CI',\n",
       " 'Croatia': 'HR',\n",
       " 'Cyprus': 'CY',\n",
       " 'Czechia': 'CZ',\n",
       " 'Dem. Rep. Congo': 'CD',\n",
       " 'Denmark': 'DK',\n",
       " 'Dominican Rep.': 'DO',\n",
       " 'Ecuador': 'EC',\n",
       " 'Egypt': 'EG',\n",
       " 'El Salvador': 'SV',\n",
       " 'Estonia': 'EE',\n",
       " 'Ethiopia': 'ET',\n",
       " 'Fiji': 'FJ',\n",
       " 'Finland': 'FI',\n",
       " 'France': 'FR',\n",
       " 'Gabon': 'GA',\n",
       " 'Gambia': 'GM',\n",
       " 'Georgia': 'GE',\n",
       " 'Germany': 'DE',\n",
       " 'Ghana': 'GH',\n",
       " 'Greece': 'GR',\n",
       " 'Greenland': 'GL',\n",
       " 'Guatemala': 'GT',\n",
       " 'Guinea': 'GN',\n",
       " 'Guyana': 'GY',\n",
       " 'Honduras': 'HN',\n",
       " 'Hungary': 'HU',\n",
       " 'Iceland': 'IS',\n",
       " 'India': 'IN',\n",
       " 'Indonesia': 'ID',\n",
       " 'Iraq': 'IQ',\n",
       " 'Ireland': 'IE',\n",
       " 'Israel': 'IL',\n",
       " 'Italy': 'IT',\n",
       " 'Jamaica': 'JM',\n",
       " 'Japan': 'JP',\n",
       " 'Jordan': 'JO',\n",
       " 'Kazakhstan': 'KZ',\n",
       " 'Kenya': 'KE',\n",
       " 'Kosovo': 'XK',\n",
       " 'Kuwait': 'KW',\n",
       " 'Kyrgyzstan': 'KG',\n",
       " 'Laos': 'LA',\n",
       " 'Latvia': 'LV',\n",
       " 'Lebanon': 'LB',\n",
       " 'Liberia': 'LR',\n",
       " 'Libya': 'LY',\n",
       " 'Lithuania': 'LT',\n",
       " 'Luxembourg': 'LU',\n",
       " 'Macedonia': 'MK',\n",
       " 'Madagascar': 'MG',\n",
       " 'Malaysia': 'MY',\n",
       " 'Mali': 'ML',\n",
       " 'Mauritania': 'MR',\n",
       " 'Mexico': 'MX',\n",
       " 'Moldova': 'MD',\n",
       " 'Mongolia': 'MN',\n",
       " 'Montenegro': 'ME',\n",
       " 'Morocco': 'MA',\n",
       " 'Mozambique': 'MZ',\n",
       " 'Myanmar': 'MM',\n",
       " 'Namibia': 'NA',\n",
       " 'N. Cyprus': '',\n",
       " 'Nepal': 'NP',\n",
       " 'Netherlands': 'NL',\n",
       " 'New Zealand': 'NZ',\n",
       " 'Niger': 'NE',\n",
       " 'Nigeria': 'NG',\n",
       " 'Norway': 'NO',\n",
       " 'Pakistan': 'PK',\n",
       " 'Palestine': 'PS',\n",
       " 'Panama': 'PA',\n",
       " 'Papua New Guinea': 'PG',\n",
       " 'Peru': 'PE',\n",
       " 'Philippines': 'PH',\n",
       " 'Poland': 'PL',\n",
       " 'Portugal': 'PT',\n",
       " 'Puerto Rico': 'PR',\n",
       " 'Qatar': 'QA',\n",
       " 'Romania': 'RO',\n",
       " 'Russia': 'RU',\n",
       " 'Rwanda': 'RW',\n",
       " 'Saudi Arabia': 'SA',\n",
       " 'Senegal': 'SN',\n",
       " 'Serbia': 'RS',\n",
       " 'Slovakia': 'SK',\n",
       " 'Slovenia': 'SI',\n",
       " 'South Africa': 'ZA',\n",
       " 'South Korea': 'KR',\n",
       " 'Spain': 'ES',\n",
       " 'Sri Lanka': 'LK',\n",
       " 'S. Sudan': 'SS',\n",
       " 'Sudan': 'SD',\n",
       " 'Sweden': 'SE',\n",
       " 'Switzerland': 'CH',\n",
       " 'Taiwan': 'TW',\n",
       " 'Tajikistan': 'TJ',\n",
       " 'Tanzania': 'TZ',\n",
       " 'Thailand': 'TH',\n",
       " 'Timor-Leste': 'TL',\n",
       " 'Togo': 'TG',\n",
       " 'Trinidad and Tobago': 'TT',\n",
       " 'Turkey': 'TR',\n",
       " 'Turkmenistan': 'TM',\n",
       " 'Uganda': 'UG',\n",
       " 'Ukraine': 'UA',\n",
       " 'United Arab Emirates': 'AE',\n",
       " 'United Kingdom': 'GB',\n",
       " 'United States of America': 'US',\n",
       " 'Uzbekistan': 'UZ',\n",
       " 'Venezuela': 'VE',\n",
       " 'Vietnam': 'VN',\n",
       " 'Zambia': 'ZM',\n",
       " 'Zimbabwe': 'ZW'}"
      ]
     },
     "execution_count": 12,
     "metadata": {},
     "output_type": "execute_result"
    }
   ],
   "source": [
    "transformed_dict = {country['name']: country['code'] for country in countries}\n",
    "transformed_dict"
   ]
  },
  {
   "cell_type": "code",
   "execution_count": 71,
   "metadata": {},
   "outputs": [
    {
     "data": {
      "text/plain": [
       "'AF'"
      ]
     },
     "execution_count": 71,
     "metadata": {},
     "output_type": "execute_result"
    }
   ],
   "source": [
    "transformed_dict[\"Afghanistan\"]"
   ]
  },
  {
   "cell_type": "code",
   "execution_count": null,
   "metadata": {},
   "outputs": [],
   "source": [
    "countries"
   ]
  },
  {
   "cell_type": "code",
   "execution_count": 4,
   "metadata": {},
   "outputs": [],
   "source": [
    "code=\"GR\""
   ]
  },
  {
   "cell_type": "code",
   "execution_count": 13,
   "metadata": {},
   "outputs": [
    {
     "data": {
      "text/plain": [
       "141"
      ]
     },
     "execution_count": 13,
     "metadata": {},
     "output_type": "execute_result"
    }
   ],
   "source": [
    "len(transformed_dict)"
   ]
  },
  {
   "cell_type": "code",
   "execution_count": 1,
   "metadata": {},
   "outputs": [
    {
     "ename": "NameError",
     "evalue": "name 'session' is not defined",
     "output_type": "error",
     "traceback": [
      "\u001b[0;31m---------------------------------------------------------------------------\u001b[0m",
      "\u001b[0;31mNameError\u001b[0m                                 Traceback (most recent call last)",
      "Cell \u001b[0;32mIn[1], line 3\u001b[0m\n\u001b[1;32m      1\u001b[0m params \u001b[39m=\u001b[39m {\u001b[39m\"\u001b[39m\u001b[39mlimit\u001b[39m\u001b[39m\"\u001b[39m: \u001b[39m1000\u001b[39m, \u001b[39m\"\u001b[39m\u001b[39mpage\u001b[39m\u001b[39m\"\u001b[39m: \u001b[39m1\u001b[39m, \u001b[39m\"\u001b[39m\u001b[39moffset\u001b[39m\u001b[39m\"\u001b[39m:\u001b[39m0\u001b[39m, \u001b[39m\"\u001b[39m\u001b[39msort\u001b[39m\u001b[39m\"\u001b[39m: \u001b[39m\"\u001b[39m\u001b[39mdesc\u001b[39m\u001b[39m\"\u001b[39m, \u001b[39m\"\u001b[39m\u001b[39mradius\u001b[39m\u001b[39m\"\u001b[39m:\u001b[39m1000\u001b[39m, \u001b[39m\"\u001b[39m\u001b[39morder_by\u001b[39m\u001b[39m\"\u001b[39m: \u001b[39m\"\u001b[39m\u001b[39mlastUpdated\u001b[39m\u001b[39m\"\u001b[39m, \u001b[39m\"\u001b[39m\u001b[39mdumpRaw\u001b[39m\u001b[39m\"\u001b[39m:\u001b[39m\"\u001b[39m\u001b[39mfalse\u001b[39m\u001b[39m\"\u001b[39m}\n\u001b[1;32m      2\u001b[0m params[\u001b[39m\"\u001b[39m\u001b[39mcountry_id\u001b[39m\u001b[39m\"\u001b[39m] \u001b[39m=\u001b[39m \u001b[39m\"\u001b[39m\u001b[39mGR\u001b[39m\u001b[39m\"\u001b[39m\n\u001b[0;32m----> 3\u001b[0m response \u001b[39m=\u001b[39m session\u001b[39m.\u001b[39mget(\n\u001b[1;32m      4\u001b[0m                     \u001b[39m'\u001b[39m\u001b[39mhttps://api.openaq.org/v2/locations\u001b[39m\u001b[39m'\u001b[39m,\n\u001b[1;32m      5\u001b[0m                     params\u001b[39m=\u001b[39mparams\n\u001b[1;32m      6\u001b[0m                 )\n",
      "\u001b[0;31mNameError\u001b[0m: name 'session' is not defined"
     ]
    }
   ],
   "source": [
    "params = {\"limit\": 1000, \"page\": 1, \"offset\":0, \"sort\": \"desc\", \"radius\":1000, \"order_by\": \"lastUpdated\", \"dumpRaw\":\"false\"}\n",
    "params[\"country_id\"] = \"GR\"\n",
    "response = session.get(\n",
    "                    'https://api.openaq.org/v2/locations',\n",
    "                    params=params\n",
    "                )"
   ]
  },
  {
   "cell_type": "code",
   "execution_count": 43,
   "metadata": {},
   "outputs": [],
   "source": [
    "response = session.get(f'https://api.openaq.org/v2/locations?limit=1000&page=1&offset=0&sort=desc&radius=1000&country_id={code}&order_by=lastUpdated&dumpRaw=false')"
   ]
  },
  {
   "cell_type": "code",
   "execution_count": 44,
   "metadata": {},
   "outputs": [],
   "source": [
    "test = response.json()"
   ]
  },
  {
   "cell_type": "code",
   "execution_count": 45,
   "metadata": {},
   "outputs": [],
   "source": [
    "def is_daytime():\n",
    "    # Get the current local time\n",
    "    now = datetime.now()\n",
    "    # Set the hours during which it's considered daytime (e.g., 6 AM to 6 PM)\n",
    "    daytime_start = now.replace(hour=6, minute=0, second=0)\n",
    "    daytime_end = now.replace(hour=18, minute=0, second=0)\n",
    "    # Check if the current time is within the daytime range\n",
    "    return daytime_start <= now <= daytime_end"
   ]
  },
  {
   "cell_type": "code",
   "execution_count": 61,
   "metadata": {},
   "outputs": [
    {
     "data": {
      "application/vnd.plotly.v1+json": {
       "config": {
        "plotlyServerURL": "https://plot.ly"
       },
       "data": [
        {
         "hoverinfo": "text",
         "lat": [
          40.65784454,
          37.9432869,
          40.6337738,
          37.99945831,
          37.93199539,
          38.03083801,
          37.97820663,
          37.98362732,
          40.67354965,
          38.24597549,
          38.25309753
         ],
         "lon": [
          22.80236626,
          23.64751053,
          22.945287699999998,
          23.73304749,
          23.71300888,
          23.78735733,
          23.72684288,
          23.70678902,
          22.89343834,
          21.73589706,
          21.73843002
         ],
         "marker": {
          "color": [
           400,
           700,
           900,
           500,
           100,
           100,
           100,
           500,
           100,
           300,
           200
          ],
          "colorbar": {
           "title": {
            "text": "Co"
           }
          },
          "colorscale": [
           [
            0,
            "#440154"
           ],
           [
            0.1111111111111111,
            "#482878"
           ],
           [
            0.2222222222222222,
            "#3e4989"
           ],
           [
            0.3333333333333333,
            "#31688e"
           ],
           [
            0.4444444444444444,
            "#26828e"
           ],
           [
            0.5555555555555556,
            "#1f9e89"
           ],
           [
            0.6666666666666666,
            "#35b779"
           ],
           [
            0.7777777777777778,
            "#6ece58"
           ],
           [
            0.8888888888888888,
            "#b5de2b"
           ],
           [
            1,
            "#fde725"
           ]
          ],
          "size": 20
         },
         "mode": "markers+text",
         "text": [
          "&#x25B2; co µg/m³: 400.0<br>Last Updated: 2023-07-23T13:00:00+00:00",
          "&#x25B2; co µg/m³: 700.0<br>Last Updated: 2023-07-23T13:00:00+00:00",
          "&#x25B2; co µg/m³: 900.0<br>Last Updated: 2023-07-23T13:00:00+00:00",
          "&#x25B2; co µg/m³: 500.0<br>Last Updated: 2023-07-23T13:00:00+00:00",
          "&#x25B2; co µg/m³: 100.0<br>Last Updated: 2023-07-23T13:00:00+00:00",
          "&#x25B2; co µg/m³: 100.0<br>Last Updated: 2023-07-23T13:00:00+00:00",
          "&#x25B2; co µg/m³: 100.0<br>Last Updated: 2023-07-23T13:00:00+00:00",
          "&#x25B2; co µg/m³: 500.0<br>Last Updated: 2023-07-23T13:00:00+00:00",
          "&#x25B2; co µg/m³: 100.0<br>Last Updated: 2023-07-21T11:00:00+00:00",
          "&#x25B2; co µg/m³: 300.0<br>Last Updated: 2023-06-12T07:00:00+00:00",
          "&#x25B2; co µg/m³: 200.0<br>Last Updated: 2023-03-28T21:00:00+00:00"
         ],
         "type": "scattermapbox"
        }
       ],
       "layout": {
        "mapbox": {
         "center": {
          "lat": 38.75742305181817,
          "lon": 23.129997773636365
         },
         "style": "carto-darkmatter",
         "zoom": 5
        },
        "margin": {
         "b": 0,
         "l": 0,
         "r": 0,
         "t": 0
        },
        "template": {
         "data": {
          "candlestick": [
           {
            "decreasing": {
             "line": {
              "color": "#000033"
             }
            },
            "increasing": {
             "line": {
              "color": "#000032"
             }
            },
            "type": "candlestick"
           }
          ],
          "contour": [
           {
            "colorscale": [
             [
              0,
              "#000011"
             ],
             [
              0.1111111111111111,
              "#000012"
             ],
             [
              0.2222222222222222,
              "#000013"
             ],
             [
              0.3333333333333333,
              "#000014"
             ],
             [
              0.4444444444444444,
              "#000015"
             ],
             [
              0.5555555555555556,
              "#000016"
             ],
             [
              0.6666666666666666,
              "#000017"
             ],
             [
              0.7777777777777778,
              "#000018"
             ],
             [
              0.8888888888888888,
              "#000019"
             ],
             [
              1,
              "#000020"
             ]
            ],
            "type": "contour"
           }
          ],
          "contourcarpet": [
           {
            "colorscale": [
             [
              0,
              "#000011"
             ],
             [
              0.1111111111111111,
              "#000012"
             ],
             [
              0.2222222222222222,
              "#000013"
             ],
             [
              0.3333333333333333,
              "#000014"
             ],
             [
              0.4444444444444444,
              "#000015"
             ],
             [
              0.5555555555555556,
              "#000016"
             ],
             [
              0.6666666666666666,
              "#000017"
             ],
             [
              0.7777777777777778,
              "#000018"
             ],
             [
              0.8888888888888888,
              "#000019"
             ],
             [
              1,
              "#000020"
             ]
            ],
            "type": "contourcarpet"
           }
          ],
          "heatmap": [
           {
            "colorscale": [
             [
              0,
              "#000011"
             ],
             [
              0.1111111111111111,
              "#000012"
             ],
             [
              0.2222222222222222,
              "#000013"
             ],
             [
              0.3333333333333333,
              "#000014"
             ],
             [
              0.4444444444444444,
              "#000015"
             ],
             [
              0.5555555555555556,
              "#000016"
             ],
             [
              0.6666666666666666,
              "#000017"
             ],
             [
              0.7777777777777778,
              "#000018"
             ],
             [
              0.8888888888888888,
              "#000019"
             ],
             [
              1,
              "#000020"
             ]
            ],
            "type": "heatmap"
           }
          ],
          "histogram2d": [
           {
            "colorscale": [
             [
              0,
              "#000011"
             ],
             [
              0.1111111111111111,
              "#000012"
             ],
             [
              0.2222222222222222,
              "#000013"
             ],
             [
              0.3333333333333333,
              "#000014"
             ],
             [
              0.4444444444444444,
              "#000015"
             ],
             [
              0.5555555555555556,
              "#000016"
             ],
             [
              0.6666666666666666,
              "#000017"
             ],
             [
              0.7777777777777778,
              "#000018"
             ],
             [
              0.8888888888888888,
              "#000019"
             ],
             [
              1,
              "#000020"
             ]
            ],
            "type": "histogram2d"
           }
          ],
          "icicle": [
           {
            "textfont": {
             "color": "white"
            },
            "type": "icicle"
           }
          ],
          "sankey": [
           {
            "textfont": {
             "color": "#000036"
            },
            "type": "sankey"
           }
          ],
          "scatter": [
           {
            "marker": {
             "line": {
              "width": 0
             }
            },
            "type": "scatter"
           }
          ],
          "table": [
           {
            "cells": {
             "fill": {
              "color": "#000038"
             },
             "font": {
              "color": "#000037"
             },
             "line": {
              "color": "#000039"
             }
            },
            "header": {
             "fill": {
              "color": "#000040"
             },
             "font": {
              "color": "#000036"
             },
             "line": {
              "color": "#000039"
             }
            },
            "type": "table"
           }
          ],
          "waterfall": [
           {
            "connector": {
             "line": {
              "color": "#000036",
              "width": 2
             }
            },
            "decreasing": {
             "marker": {
              "color": "#000033"
             }
            },
            "increasing": {
             "marker": {
              "color": "#000032"
             }
            },
            "totals": {
             "marker": {
              "color": "#000034"
             }
            },
            "type": "waterfall"
           }
          ]
         },
         "layout": {
          "coloraxis": {
           "colorscale": [
            [
             0,
             "#000011"
            ],
            [
             0.1111111111111111,
             "#000012"
            ],
            [
             0.2222222222222222,
             "#000013"
            ],
            [
             0.3333333333333333,
             "#000014"
            ],
            [
             0.4444444444444444,
             "#000015"
            ],
            [
             0.5555555555555556,
             "#000016"
            ],
            [
             0.6666666666666666,
             "#000017"
            ],
            [
             0.7777777777777778,
             "#000018"
            ],
            [
             0.8888888888888888,
             "#000019"
            ],
            [
             1,
             "#000020"
            ]
           ]
          },
          "colorscale": {
           "diverging": [
            [
             0,
             "#000021"
            ],
            [
             0.1,
             "#000022"
            ],
            [
             0.2,
             "#000023"
            ],
            [
             0.3,
             "#000024"
            ],
            [
             0.4,
             "#000025"
            ],
            [
             0.5,
             "#000026"
            ],
            [
             0.6,
             "#000027"
            ],
            [
             0.7,
             "#000028"
            ],
            [
             0.8,
             "#000029"
            ],
            [
             0.9,
             "#000030"
            ],
            [
             1,
             "#000031"
            ]
           ],
           "sequential": [
            [
             0,
             "#000011"
            ],
            [
             0.1111111111111111,
             "#000012"
            ],
            [
             0.2222222222222222,
             "#000013"
            ],
            [
             0.3333333333333333,
             "#000014"
            ],
            [
             0.4444444444444444,
             "#000015"
            ],
            [
             0.5555555555555556,
             "#000016"
            ],
            [
             0.6666666666666666,
             "#000017"
            ],
            [
             0.7777777777777778,
             "#000018"
            ],
            [
             0.8888888888888888,
             "#000019"
            ],
            [
             1,
             "#000020"
            ]
           ],
           "sequentialminus": [
            [
             0,
             "#000011"
            ],
            [
             0.1111111111111111,
             "#000012"
            ],
            [
             0.2222222222222222,
             "#000013"
            ],
            [
             0.3333333333333333,
             "#000014"
            ],
            [
             0.4444444444444444,
             "#000015"
            ],
            [
             0.5555555555555556,
             "#000016"
            ],
            [
             0.6666666666666666,
             "#000017"
            ],
            [
             0.7777777777777778,
             "#000018"
            ],
            [
             0.8888888888888888,
             "#000019"
            ],
            [
             1,
             "#000020"
            ]
           ]
          },
          "colorway": [
           "#000001",
           "#000002",
           "#000003",
           "#000004",
           "#000005",
           "#000006",
           "#000007",
           "#000008",
           "#000009",
           "#000010"
          ]
         }
        }
       }
      }
     },
     "metadata": {},
     "output_type": "display_data"
    }
   ],
   "source": [
    "def visualize_variable_on_map(data_dict, variable):\n",
    "    is_day = is_daytime()\n",
    "    mapbox_style = 'carto-darkmatter' if not is_day else 'open-street-map'\n",
    "\n",
    "    # Initialize lists to store data for multiple locations\n",
    "    latitudes = []\n",
    "    longitudes = []\n",
    "    values = []\n",
    "    display_names = []\n",
    "    last_updated = []\n",
    "\n",
    "    custom_markers = {\n",
    "        'humidity': \"&#x1F4A7;\",  # Humidity - Raindrop Emoji\n",
    "        'others': \"&#x25B2;\",  \n",
    "    }\n",
    "\n",
    "    # Loop through the results and extract relevant data for each location\n",
    "    for result in data_dict.get('results', []):\n",
    "        measurements = result.get('parameters', [])\n",
    "        for measurement in measurements:\n",
    "            if measurement['parameter'] == variable:\n",
    "                value = measurement['lastValue']\n",
    "                display_name = measurement['displayName']\n",
    "                latitude = result['coordinates']['latitude']\n",
    "                longitude = result['coordinates']['longitude']\n",
    "                last_updated_value = result['lastUpdated']\n",
    "\n",
    "                latitudes.append(latitude)\n",
    "                longitudes.append(longitude)\n",
    "                values.append(value)\n",
    "                display_names.append(display_name)\n",
    "                last_updated.append(last_updated_value)\n",
    "\n",
    "    if not latitudes or not longitudes or not values:\n",
    "        print(f\"{variable} data not found.\")\n",
    "        return\n",
    "\n",
    "    # Create the visualization\n",
    "    fig = go.Figure()\n",
    "\n",
    "    marker = [custom_markers[\"humidity\"] if variable==\"humidity\" else custom_markers[\"others\"]]\n",
    "\n",
    "    # Add a single scatter mapbox trace with all locations\n",
    "    fig.add_trace(go.Scattermapbox(\n",
    "        lat=latitudes,\n",
    "        lon=longitudes,\n",
    "        mode='markers+text',\n",
    "        marker=dict(\n",
    "            size=20,\n",
    "            color=values,\n",
    "            colorscale='Viridis',  # You can choose other color scales as well\n",
    "            colorbar=dict(title=f'{variable.capitalize()}')\n",
    "        ),\n",
    "        text=[f\"{marker[0]} {display_name}: {values[i]}<br>Last Updated: {last_updated[i]}\" for i, display_name in enumerate(display_names)],\n",
    "        hoverinfo='text',\n",
    "    ))\n",
    "    \n",
    "    # Update map layout\n",
    "    fig.update_layout(\n",
    "        mapbox=dict(\n",
    "            style=mapbox_style,  # Choose the desired map style\n",
    "            zoom=5,  # Adjust the initial zoom level as needed\n",
    "            center=dict(lat=sum(latitudes) / len(latitudes), lon=sum(longitudes) / len(longitudes))\n",
    "        ),\n",
    "        margin=dict(l=0, r=0, t=0, b=0)\n",
    "    )\n",
    "\n",
    "    # Show the map\n",
    "    fig.show()\n",
    "\n",
    "visualize_variable_on_map(test, \"co\")\n"
   ]
  },
  {
   "cell_type": "code",
   "execution_count": null,
   "metadata": {},
   "outputs": [],
   "source": [
    "test[\"results\"]"
   ]
  },
  {
   "cell_type": "code",
   "execution_count": 56,
   "metadata": {},
   "outputs": [],
   "source": [
    "params = []\n",
    "parameters = test[\"results\"][1][\"parameters\"]\n",
    "\n",
    "for parameter in parameters:\n",
    "    p = parameter[\"parameter\"]\n",
    "    if p not in params:\n",
    "        params.append(p)"
   ]
  },
  {
   "cell_type": "code",
   "execution_count": 59,
   "metadata": {},
   "outputs": [],
   "source": [
    "params = []\n",
    "for i in range(len(test[\"results\"])):\n",
    "    parameters = test[\"results\"][i][\"parameters\"]\n",
    "\n",
    "    for parameter in parameters:\n",
    "        p = parameter[\"parameter\"]\n",
    "        if p not in params:\n",
    "            params.append(p)"
   ]
  },
  {
   "cell_type": "code",
   "execution_count": 60,
   "metadata": {},
   "outputs": [
    {
     "data": {
      "text/plain": [
       "['um025',\n",
       " 'humidity',\n",
       " 'pressure',\n",
       " 'um050',\n",
       " 'temperature',\n",
       " 'um003',\n",
       " 'um005',\n",
       " 'pm1',\n",
       " 'pm10',\n",
       " 'um100',\n",
       " 'pm25',\n",
       " 'um010',\n",
       " 'voc',\n",
       " 'pm4',\n",
       " 'no',\n",
       " 'no2',\n",
       " 'o3',\n",
       " 'so2',\n",
       " 'co']"
      ]
     },
     "execution_count": 60,
     "metadata": {},
     "output_type": "execute_result"
    }
   ],
   "source": [
    "params"
   ]
  },
  {
   "cell_type": "code",
   "execution_count": null,
   "metadata": {},
   "outputs": [],
   "source": [
    "test[\"results\"][0]"
   ]
  }
 ],
 "metadata": {
  "kernelspec": {
   "display_name": ".venv",
   "language": "python",
   "name": "python3"
  },
  "language_info": {
   "codemirror_mode": {
    "name": "ipython",
    "version": 3
   },
   "file_extension": ".py",
   "mimetype": "text/x-python",
   "name": "python",
   "nbconvert_exporter": "python",
   "pygments_lexer": "ipython3",
   "version": "3.8.6"
  },
  "orig_nbformat": 4
 },
 "nbformat": 4,
 "nbformat_minor": 2
}
